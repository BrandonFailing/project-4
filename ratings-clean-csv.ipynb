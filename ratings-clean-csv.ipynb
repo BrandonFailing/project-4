{
 "cells": [
  {
   "cell_type": "code",
   "execution_count": 1,
   "metadata": {},
   "outputs": [],
   "source": [
    "import csv\n",
    "import pandas as pd"
   ]
  },
  {
   "cell_type": "code",
   "execution_count": 3,
   "metadata": {},
   "outputs": [],
   "source": [
    "def clean_csv(input_file, output_file):\n",
    "    # Read the csv file\n",
    "    df = pd.read_csv(input_file)\n",
    "\n",
    "    # Drop the userId and timestamp columns\n",
    "    df = df.drop(['userId', 'timestamp'], axis=1)\n",
    "\n",
    "    # Save the cleaned dataframe to a new csv file\n",
    "    df.to_csv(output_file, index=False)\n",
    "\n",
    "# Input/Output\n",
    "clean_csv('./dataset/ratings-25m.csv', './dataset/ratings-25m-cleaned.csv')"
   ]
  },
  {
   "cell_type": "code",
   "execution_count": 9,
   "metadata": {},
   "outputs": [],
   "source": [
    "def sort_csv(input_file):\n",
    "    # Read the csv file\n",
    "    df = pd.read_csv(input_file)\n",
    "    \n",
    "    # Sort the dataframe by movieId\n",
    "    df = df.sort_values('movieId')\n",
    "    \n",
    "    # Save the sorted dataframe to the same csv file\n",
    "    df.to_csv(input_file, index=False)\n",
    "\n",
    "# Input/Output\n",
    "sort_csv('./dataset/ratings-25m-cleaned.csv')"
   ]
  },
  {
   "cell_type": "code",
   "execution_count": 12,
   "metadata": {},
   "outputs": [],
   "source": [
    "# Read the cleaned csv file\n",
    "df = pd.read_csv('./dataset/ratings-25m-cleaned.csv')\n",
    "\n",
    "# Group the dataframe by movieId and calculate the mean of the rating column for each group\n",
    "df = df.groupby('movieId').mean().reset_index()\n",
    "df['rating'] = df['rating'].round(1)\n",
    "\n",
    "# Save the resulting dataframe to a new csv file\n",
    "df.to_csv('./dataset/movie-rating-averages.csv', index=False)"
   ]
  }
 ],
 "metadata": {
  "kernelspec": {
   "display_name": "pythondata",
   "language": "python",
   "name": "python3"
  },
  "language_info": {
   "codemirror_mode": {
    "name": "ipython",
    "version": 3
   },
   "file_extension": ".py",
   "mimetype": "text/x-python",
   "name": "python",
   "nbconvert_exporter": "python",
   "pygments_lexer": "ipython3",
   "version": "3.6.10"
  },
  "orig_nbformat": 4
 },
 "nbformat": 4,
 "nbformat_minor": 2
}
