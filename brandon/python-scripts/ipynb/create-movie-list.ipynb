{
 "cells": [
  {
   "cell_type": "code",
   "execution_count": 1,
   "metadata": {},
   "outputs": [],
   "source": [
    "import csv\n",
    "import pandas as pd"
   ]
  },
  {
   "cell_type": "code",
   "execution_count": 2,
   "metadata": {},
   "outputs": [],
   "source": [
    "# Read in the u-r1-movies-reordered.csv file\n",
    "df = pd.read_csv('./dataset/u-r1-movies-reordered.csv')\n",
    "\n",
    "# Select the name and movieId columns and remove duplicates\n",
    "df = df[['name', 'movieId']].drop_duplicates()\n",
    "\n",
    "# Write the resulting dataframe to a new CSV file\n",
    "df.to_csv('./dataset/u-movie-list.csv', index=False)"
   ]
  }
 ],
 "metadata": {
  "kernelspec": {
   "display_name": "pythondata",
   "language": "python",
   "name": "python3"
  },
  "language_info": {
   "codemirror_mode": {
    "name": "ipython",
    "version": 3
   },
   "file_extension": ".py",
   "mimetype": "text/x-python",
   "name": "python",
   "nbconvert_exporter": "python",
   "pygments_lexer": "ipython3",
   "version": "3.6.10"
  },
  "orig_nbformat": 4
 },
 "nbformat": 4,
 "nbformat_minor": 2
}
