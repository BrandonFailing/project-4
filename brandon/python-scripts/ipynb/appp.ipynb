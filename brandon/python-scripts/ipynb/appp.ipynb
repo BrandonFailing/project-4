{
 "cells": [
  {
   "cell_type": "code",
   "execution_count": 1,
   "metadata": {},
   "outputs": [
    {
     "name": "stderr",
     "output_type": "stream",
     "text": [
      "c:\\Users\\Owner\\anaconda3\\envs\\pythondata\\lib\\site-packages\\IPython\\core\\interactiveshell.py:3072: DtypeWarning: Columns (10) have mixed types.Specify dtype option on import or set low_memory=False.\n",
      "  interactivity=interactivity, compiler=compiler, result=result)\n"
     ]
    }
   ],
   "source": [
    "import pandas as pd\n",
    "data = pd.read_csv('./archive/movies_metadata.csv')"
   ]
  },
  {
   "cell_type": "code",
   "execution_count": 2,
   "metadata": {},
   "outputs": [],
   "source": [
    "# Remove unwanted columns\n",
    "data = data[['title', 'genres', 'vote_average']]\n",
    "\n",
    "# Handle missing values\n",
    "data = data.dropna()\n",
    "\n",
    "# Output cleaned data to a new CSV file.\n",
    "data.to_csv('movies_metadata_cleaned.csv', index=False)"
   ]
  },
  {
   "cell_type": "code",
   "execution_count": 3,
   "metadata": {},
   "outputs": [],
   "source": [
    "from sklearn.metrics.pairwise import cosine_similarity\n",
    "\n",
    "# Compute similarity matrix\n",
    "similarities = cosine_similarity(data.iloc[:, 2:])\n",
    "\n",
    "def recommend_movies(title, num_recommendations=5):\n",
    "    # Get movie index\n",
    "    idx = data[data['title'] == title].index[0]\n",
    "\n",
    "    # Get similarity scores\n",
    "    scores = list(enumerate(similarities[idx]))\n",
    "\n",
    "    # Sort scores in descending order\n",
    "    scores = sorted(scores, key=lambda x: x[1], reverse=True)\n",
    "\n",
    "    # Get top similar movies\n",
    "    top_movies = [data.iloc[i]['title'] for i, s in scores[1:num_recommendations+1]]\n",
    "\n",
    "    return top_movies"
   ]
  },
  {
   "cell_type": "code",
   "execution_count": 5,
   "metadata": {},
   "outputs": [
    {
     "name": "stdout",
     "output_type": "stream",
     "text": [
      "Non-numeric rows in column title:\n",
      "                             title  \\\n",
      "0                        Toy Story   \n",
      "1                          Jumanji   \n",
      "2                 Grumpier Old Men   \n",
      "3                Waiting to Exhale   \n",
      "4      Father of the Bride Part II   \n",
      "...                            ...   \n",
      "45461                       Subdue   \n",
      "45462          Century of Birthing   \n",
      "45463                     Betrayal   \n",
      "45464             Satan Triumphant   \n",
      "45465                     Queerama   \n",
      "\n",
      "                                                  genres  vote_average  \n",
      "0      [{'id': 16, 'name': 'Animation'}, {'id': 35, '...           7.7  \n",
      "1      [{'id': 12, 'name': 'Adventure'}, {'id': 14, '...           6.9  \n",
      "2      [{'id': 10749, 'name': 'Romance'}, {'id': 35, ...           6.5  \n",
      "3      [{'id': 35, 'name': 'Comedy'}, {'id': 18, 'nam...           6.1  \n",
      "4                         [{'id': 35, 'name': 'Comedy'}]           5.7  \n",
      "...                                                  ...           ...  \n",
      "45461  [{'id': 18, 'name': 'Drama'}, {'id': 10751, 'n...           4.0  \n",
      "45462                      [{'id': 18, 'name': 'Drama'}]           9.0  \n",
      "45463  [{'id': 28, 'name': 'Action'}, {'id': 18, 'nam...           3.8  \n",
      "45464                                                 []           0.0  \n",
      "45465                                                 []           0.0  \n",
      "\n",
      "[45460 rows x 3 columns]\n",
      "Non-numeric rows in column genres:\n",
      "                             title  \\\n",
      "0                        Toy Story   \n",
      "1                          Jumanji   \n",
      "2                 Grumpier Old Men   \n",
      "3                Waiting to Exhale   \n",
      "4      Father of the Bride Part II   \n",
      "...                            ...   \n",
      "45461                       Subdue   \n",
      "45462          Century of Birthing   \n",
      "45463                     Betrayal   \n",
      "45464             Satan Triumphant   \n",
      "45465                     Queerama   \n",
      "\n",
      "                                                  genres  vote_average  \n",
      "0      [{'id': 16, 'name': 'Animation'}, {'id': 35, '...           7.7  \n",
      "1      [{'id': 12, 'name': 'Adventure'}, {'id': 14, '...           6.9  \n",
      "2      [{'id': 10749, 'name': 'Romance'}, {'id': 35, ...           6.5  \n",
      "3      [{'id': 35, 'name': 'Comedy'}, {'id': 18, 'nam...           6.1  \n",
      "4                         [{'id': 35, 'name': 'Comedy'}]           5.7  \n",
      "...                                                  ...           ...  \n",
      "45461  [{'id': 18, 'name': 'Drama'}, {'id': 10751, 'n...           4.0  \n",
      "45462                      [{'id': 18, 'name': 'Drama'}]           9.0  \n",
      "45463  [{'id': 28, 'name': 'Action'}, {'id': 18, 'nam...           3.8  \n",
      "45464                                                 []           0.0  \n",
      "45465                                                 []           0.0  \n",
      "\n",
      "[45460 rows x 3 columns]\n"
     ]
    }
   ],
   "source": [
    "for col in data.columns:\n",
    "    non_numeric_rows = data[data[col].apply(lambda x: isinstance(x, (int, float))) == False]\n",
    "    if not non_numeric_rows.empty:\n",
    "        print(f\"Non-numeric rows in column {col}:\")\n",
    "        print(non_numeric_rows)"
   ]
  },
  {
   "cell_type": "code",
   "execution_count": 4,
   "metadata": {},
   "outputs": [
    {
     "name": "stdout",
     "output_type": "stream",
     "text": [
      "['Jumanji', 'Grumpier Old Men', 'Waiting to Exhale', 'Father of the Bride Part II', 'Heat']\n"
     ]
    }
   ],
   "source": [
    "# Change name of movie to get varied reponse.\n",
    "recommended_movies = recommend_movies('The Lion King')\n",
    "print(recommended_movies)\n"
   ]
  }
 ],
 "metadata": {
  "kernelspec": {
   "display_name": "pythondata",
   "language": "python",
   "name": "python3"
  },
  "language_info": {
   "codemirror_mode": {
    "name": "ipython",
    "version": 3
   },
   "file_extension": ".py",
   "mimetype": "text/x-python",
   "name": "python",
   "nbconvert_exporter": "python",
   "pygments_lexer": "ipython3",
   "version": "3.6.10"
  },
  "orig_nbformat": 4
 },
 "nbformat": 4,
 "nbformat_minor": 2
}
