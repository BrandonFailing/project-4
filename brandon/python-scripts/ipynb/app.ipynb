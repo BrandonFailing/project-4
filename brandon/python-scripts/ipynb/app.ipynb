{
 "cells": [
  {
   "cell_type": "code",
   "execution_count": 1,
   "metadata": {},
   "outputs": [
    {
     "name": "stderr",
     "output_type": "stream",
     "text": [
      "c:\\Users\\Owner\\anaconda3\\envs\\pythondata\\lib\\site-packages\\IPython\\core\\interactiveshell.py:3072: DtypeWarning: Columns (10) have mixed types.Specify dtype option on import or set low_memory=False.\n",
      "  interactivity=interactivity, compiler=compiler, result=result)\n"
     ]
    }
   ],
   "source": [
    "import pandas as pd\n",
    "data = pd.read_csv('./archive/movies_metadata.csv')\n"
   ]
  },
  {
   "cell_type": "code",
   "execution_count": 2,
   "metadata": {},
   "outputs": [],
   "source": [
    "# Remove unwanted columns\n",
    "data = data[['title', 'genres', 'vote_average']]\n",
    "\n",
    "# Handle missing values\n",
    "data = data.dropna()\n",
    "\n",
    "# Encode categorical variables\n",
    "genres = data['genres'].str.split('|', expand=True)\n",
    "genres = pd.get_dummies(genres.apply(lambda x: x.str.strip()))\n",
    "\n",
    "# Combine encoded genres with original data\n",
    "data = pd.concat([data, genres], axis=1)\n",
    "data = data.drop('genres', axis=1)\n"
   ]
  },
  {
   "cell_type": "code",
   "execution_count": 8,
   "metadata": {},
   "outputs": [],
   "source": [
    "from sklearn.metrics.pairwise import cosine_similarity\n",
    "\n",
    "# Compute similarity matrix\n",
    "similarities = cosine_similarity(data.iloc[:, 2:])\n",
    "\n",
    "def recommend_movies(title, num_recommendations=5):\n",
    "    # Get movie index\n",
    "    idx = data[data['title'] == title].index[0]\n",
    "\n",
    "    # Get similarity scores\n",
    "    scores = list(enumerate(similarities[idx]))\n",
    "\n",
    "    # Sort scores in descending order\n",
    "    scores = sorted(scores, key=lambda x: x[1], reverse=True)\n",
    "\n",
    "    # Get top similar movies\n",
    "    top_movies = [data.iloc[i]['title'] for i, s in scores[1:num_recommendations+1]]\n",
    "\n",
    "    return top_movies\n"
   ]
  },
  {
   "cell_type": "code",
   "execution_count": 5,
   "metadata": {},
   "outputs": [
    {
     "name": "stderr",
     "output_type": "stream",
     "text": [
      "2023-03-11 11:47:21.232 \n",
      "  \u001b[33m\u001b[1mWarning:\u001b[0m to view this Streamlit app on a browser, run it with the following\n",
      "  command:\n",
      "\n",
      "    streamlit run c:\\Users\\Owner\\anaconda3\\envs\\pythondata\\lib\\site-packages\\ipykernel_launcher.py [ARGUMENTS]\n"
     ]
    }
   ],
   "source": [
    "import streamlit as st\n",
    "\n",
    "st.title('Movie Recommendation App')\n",
    "\n",
    "movie_title = st.text_input('Enter a movie title')\n",
    "\n",
    "if st.button('Recommend'):\n",
    "    recommendations = recommend_movies(movie_title)\n",
    "    st.write(recommendations)\n"
   ]
  }
 ],
 "metadata": {
  "kernelspec": {
   "display_name": "pythondata",
   "language": "python",
   "name": "python3"
  },
  "language_info": {
   "codemirror_mode": {
    "name": "ipython",
    "version": 3
   },
   "file_extension": ".py",
   "mimetype": "text/x-python",
   "name": "python",
   "nbconvert_exporter": "python",
   "pygments_lexer": "ipython3",
   "version": "3.6.10"
  },
  "orig_nbformat": 4
 },
 "nbformat": 4,
 "nbformat_minor": 2
}
