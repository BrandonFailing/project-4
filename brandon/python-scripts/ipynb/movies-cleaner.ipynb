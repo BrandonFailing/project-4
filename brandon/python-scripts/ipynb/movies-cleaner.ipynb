{
 "cells": [
  {
   "cell_type": "code",
   "execution_count": 1,
   "metadata": {},
   "outputs": [],
   "source": [
    "import csv \n",
    "import pandas as pd"
   ]
  },
  {
   "cell_type": "code",
   "execution_count": 4,
   "metadata": {},
   "outputs": [],
   "source": [
    "# Change movie-cleaned.csv column name value to movieId\n",
    "\n",
    "# Read the input csv file\n",
    "df = pd.read_csv('./dataset/movies-cleaned.csv')\n",
    "\n",
    "# Rename the \"value\" column to \"movieId\"\n",
    "df = df.rename(columns={'value': 'movieId'})\n",
    "\n",
    "# Save the resulting dataframe to a new csv file\n",
    "df.to_csv('./dataset/movies-cleaned-r1.csv', index=False)"
   ]
  },
  {
   "cell_type": "code",
   "execution_count": 5,
   "metadata": {},
   "outputs": [],
   "source": [
    "# Change u.csv column name item_id to movieId\n",
    "\n",
    "# Read the input csv file\n",
    "df = pd.read_csv('./dataset/u.csv')\n",
    "\n",
    "# Rename the \"value\" column to \"movieId\"\n",
    "df = df.rename(columns={'item_id': 'movieId'})\n",
    "\n",
    "# Save the resulting dataframe to a new csv file\n",
    "df.to_csv('./dataset/u-r1.csv', index=False)"
   ]
  },
  {
   "cell_type": "code",
   "execution_count": 6,
   "metadata": {},
   "outputs": [],
   "source": [
    "def sort_csv(input_file):\n",
    "    # Read the csv file\n",
    "    df = pd.read_csv(input_file)\n",
    "    \n",
    "    # Sort the dataframe by movieId\n",
    "    df = df.sort_values('movieId')\n",
    "    \n",
    "    # Save the sorted dataframe to the same csv file\n",
    "    df.to_csv(input_file, index=False)\n",
    "\n",
    "# Input/Output\n",
    "sort_csv('./dataset/u-r1.csv')"
   ]
  },
  {
   "cell_type": "code",
   "execution_count": 8,
   "metadata": {},
   "outputs": [],
   "source": [
    "# Read the two input csv files\n",
    "movies_df = pd.read_csv('./dataset/movies-cleaned-r1.csv')\n",
    "ratings_df = pd.read_csv('./dataset/u-r1.csv')\n",
    "\n",
    "# Merge the two dataframes based on the \"movieId\" column\n",
    "merged_df = pd.merge(ratings_df, movies_df, on='movieId')\n",
    "\n",
    "# Save the resulting dataframe to a new csv file\n",
    "merged_df.to_csv('./dataset/u-r1-movies.csv', index=False)"
   ]
  },
  {
   "cell_type": "code",
   "execution_count": 10,
   "metadata": {},
   "outputs": [],
   "source": [
    "# Read the input csv file\n",
    "df = pd.read_csv('./dataset/u-r1-movies.csv')\n",
    "\n",
    "# Reorder the columns\n",
    "df = df.reindex(columns=['movieId', 'name', 'user_id', 'rating', 'timestamp'])\n",
    "\n",
    "# Save the resulting dataframe to a new csv file\n",
    "df.to_csv('./dataset/u-r1-movies-reordered.csv', index=False)"
   ]
  }
 ],
 "metadata": {
  "kernelspec": {
   "display_name": "pythondata",
   "language": "python",
   "name": "python3"
  },
  "language_info": {
   "codemirror_mode": {
    "name": "ipython",
    "version": 3
   },
   "file_extension": ".py",
   "mimetype": "text/x-python",
   "name": "python",
   "nbconvert_exporter": "python",
   "pygments_lexer": "ipython3",
   "version": "3.6.10"
  },
  "orig_nbformat": 4
 },
 "nbformat": 4,
 "nbformat_minor": 2
}
